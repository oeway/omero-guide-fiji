{
 "cells": [
  {
   "cell_type": "markdown",
   "source": [
    "# Download fiji\n",
    "\n",
    "## skip this cell if you are running it on binder"
   ],
   "metadata": {}
  },
  {
   "cell_type": "code",
   "execution_count": null,
   "source": [
    "import imagej\n",
    "ij = imagej.init('/srv/conda/vnc/Fiji.app', headless=False)\n",
    "ij.getVersion()"
   ],
   "outputs": [],
   "metadata": {}
  },
  {
   "cell_type": "markdown",
   "source": [
    "# ImageJ with Python Kernel"
   ],
   "metadata": {}
  },
  {
   "cell_type": "markdown",
   "source": [
    "This notebook covers how to use ImageJ as a library from Python. A major advantage of this approach is the ability to combine ImageJ with other tools available from the Python software ecosystem, including [NumPy](https://www.numpy.org/), [SciPy](https://www.scipy.org/), [scikit-image](https://scikit-image.org/), [CellProfiler](https://cellprofiler.org/), [OpenCV](https://opencv.org/), [ITK](https://itk.org/) and more.\n",
    "\n",
    "This notebook assumes familiarity with the ImageJ API. Detailed tutorials in that regard can be found in the [other notebooks](../ImageJ-Tutorials-and-Demo.ipynb)."
   ],
   "metadata": {}
  },
  {
   "cell_type": "markdown",
   "source": [
    "# Download a deepimagej model"
   ],
   "metadata": {}
  },
  {
   "cell_type": "code",
   "execution_count": 3,
   "source": [
    "!wget  https://zenodo.org/record/4608442/files/SMLM_Density%20Map_Estimation_%28DEFCoN%29.bioimage.io.model.zip\n",
    "!rm -rf Fiji.app/models/DEFCoN.bioimage.io.model\n",
    "!mkdir -p Fiji.app/models/DEFCoN.bioimage.io.model\n",
    "!unzip \"SMLM_Density Map_Estimation_(DEFCoN).bioimage.io.model.zip\" -d Fiji.app/models/DEFCoN.bioimage.io.model/"
   ],
   "outputs": [
    {
     "output_type": "stream",
     "name": "stdout",
     "text": [
      "Archive:  SMLM_Density Map_Estimation_(DEFCoN).bioimage.io.model.zip\n",
      "   creating: Fiji.app/models/DEFCoN.bioimage.io.model/variables/\n",
      "  inflating: Fiji.app/models/DEFCoN.bioimage.io.model/variables/variables.data-00000-of-00001  \n",
      "  inflating: Fiji.app/models/DEFCoN.bioimage.io.model/variables/variables.index  \n",
      "  inflating: Fiji.app/models/DEFCoN.bioimage.io.model/tensorflow_saved_model_bundle.zip  \n",
      "  inflating: Fiji.app/models/DEFCoN.bioimage.io.model/saved_model.pb  \n",
      "  inflating: Fiji.app/models/DEFCoN.bioimage.io.model/Results.csv  \n",
      "  inflating: Fiji.app/models/DEFCoN.bioimage.io.model/resultImage.tif  \n",
      "  inflating: Fiji.app/models/DEFCoN.bioimage.io.model/resultImage.npy  \n",
      "  inflating: Fiji.app/models/DEFCoN.bioimage.io.model/preprocessing.txt  \n",
      "  inflating: Fiji.app/models/DEFCoN.bioimage.io.model/postprocessing.txt  \n",
      "  inflating: Fiji.app/models/DEFCoN.bioimage.io.model/model.yaml  \n",
      "  inflating: Fiji.app/models/DEFCoN.bioimage.io.model/exampleImage.tif  \n",
      "  inflating: Fiji.app/models/DEFCoN.bioimage.io.model/exampleImage.npy  \n",
      "  inflating: Fiji.app/models/DEFCoN.bioimage.io.model/cover_image.jpg  \n",
      "  inflating: Fiji.app/models/DEFCoN.bioimage.io.model/config.xml  \n"
     ]
    }
   ],
   "metadata": {}
  },
  {
   "cell_type": "code",
   "execution_count": 4,
   "source": [
    "!ls Fiji.app/models/DEFCoN.bioimage.io.model/"
   ],
   "outputs": [
    {
     "output_type": "stream",
     "name": "stdout",
     "text": [
      "config.xml\t  postprocessing.txt  saved_model.pb\r\n",
      "cover_image.jpg   preprocessing.txt   tensorflow_saved_model_bundle.zip\r\n",
      "exampleImage.npy  resultImage.npy     variables\r\n",
      "exampleImage.tif  resultImage.tif\r\n",
      "model.yaml\t  Results.csv\r\n"
     ]
    }
   ],
   "metadata": {}
  },
  {
   "cell_type": "markdown",
   "source": [
    "## Starting ImageJ from Python"
   ],
   "metadata": {}
  },
  {
   "cell_type": "markdown",
   "source": [
    "The [pyimagej](https://pypi.org/project/pyimagej/) module enables access to the entire ImageJ API from Python in a natural way.\n",
    "\n",
    "Let's initialize an ImageJ gateway including Fiji plugins, at a reproducible version:"
   ],
   "metadata": {}
  },
  {
   "cell_type": "code",
   "execution_count": 1,
   "source": [
    "import imagej\n",
    "import os\n",
    "ij = imagej.init('/srv/conda/vnc/Fiji.app', headless=False)\n",
    "ij.getVersion()"
   ],
   "outputs": [
    {
     "output_type": "execute_result",
     "data": {
      "text/plain": [
       "'2.1.0/1.53c'"
      ]
     },
     "metadata": {},
     "execution_count": 1
    }
   ],
   "metadata": {}
  },
  {
   "cell_type": "code",
   "execution_count": 2,
   "source": [
    "ij.ui().showUI()"
   ],
   "outputs": [],
   "metadata": {}
  },
  {
   "cell_type": "code",
   "execution_count": 3,
   "source": [
    "macro = \"\"\"\n",
    "#@ String inputFile\n",
    "#@output String logString\n",
    "\n",
    "open(\"Fiji.app/models/DEFCoN.bioimage.io.model/exampleImage.tif\");\n",
    "selectWindow(\"exampleImage.tif\");\n",
    "saveAs(\"PNG\", \"input.png\");\n",
    "run(\"DeepImageJ Run\", \"model=[SMLM Density Map Estimation (DEFCoN)] format=Tensorflow preprocessing=[preprocessing.txt] postprocessing=[postprocessing.txt] axes=Y,X,C tile=84,84,1 logging=normal\");\n",
    "saveAs(\"PNG\", \"output.png\");\n",
    "\n",
    "IJ.log(\"Done\");\n",
    "logString = getInfo(\"log\");\n",
    "\"\"\"\n",
    "args = {\n",
    "    'inputFile': '\"Fiji.app/models/DEFCoN.bioimage.io.model/exampleImage.tif\"',\n",
    "}\n",
    "result = ij.py.run_macro(macro, args)\n",
    "print(result.getOutput('logString')) # it should print '...Done'"
   ],
   "outputs": [
    {
     "output_type": "stream",
     "name": "stderr",
     "text": [
      "[java.lang.Enum.toString] [INFO] No TF library found in /srv/conda/vnc/Fiji.app/lib/.\n"
     ]
    },
    {
     "output_type": "stream",
     "name": "stdout",
     "text": [
      "Done\n",
      "\n"
     ]
    }
   ],
   "metadata": {}
  }
 ],
 "metadata": {
  "kernelspec": {
   "display_name": "Python 3",
   "language": "python",
   "name": "python3"
  },
  "language_info": {
   "codemirror_mode": {
    "name": "ipython",
    "version": 3
   },
   "file_extension": ".py",
   "mimetype": "text/x-python",
   "name": "python",
   "nbconvert_exporter": "python",
   "pygments_lexer": "ipython3",
   "version": "3.7.10"
  },
  "toc": {
   "base_numbering": 1,
   "nav_menu": {},
   "number_sections": true,
   "sideBar": true,
   "skip_h1_title": true,
   "title_cell": "Table of Contents",
   "title_sidebar": "Contents",
   "toc_cell": false,
   "toc_position": {
    "height": "calc(100% - 180px)",
    "left": "10px",
    "top": "150px",
    "width": "307px"
   },
   "toc_section_display": true,
   "toc_window_display": true
  }
 },
 "nbformat": 4,
 "nbformat_minor": 2
}