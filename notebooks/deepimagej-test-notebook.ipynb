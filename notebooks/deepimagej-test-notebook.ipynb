{
 "cells": [
  {
   "cell_type": "markdown",
   "source": [
    "# Update deepImageJ and download a model"
   ],
   "metadata": {}
  },
  {
   "cell_type": "code",
   "execution_count": null,
   "source": [
    "%%bash\n",
    "Fiji.app/ImageJ-linux64 --update add-update-site DeepImageJ https://sites.imagej.net/DeepImageJ/\n",
    "Fiji.app/ImageJ-linux64 --update update\n",
    "\n",
    "wget  https://zenodo.org/record/4608442/files/SMLM_Density%20Map_Estimation_%28DEFCoN%29.bioimage.io.model.zip\n",
    "rm -rf Fiji.app/models/DEFCoN.bioimage.io.model\n",
    "mkdir -p Fiji.app/models/DEFCoN.bioimage.io.model\n",
    "unzip \"SMLM_Density Map_Estimation_(DEFCoN).bioimage.io.model.zip\" -d Fiji.app/models/DEFCoN.bioimage.io.model/\n",
    "ls Fiji.app/models/DEFCoN.bioimage.io.model/"
   ],
   "outputs": [],
   "metadata": {}
  },
  {
   "cell_type": "markdown",
   "source": [
    "## Starting ImageJ from Python"
   ],
   "metadata": {}
  },
  {
   "cell_type": "markdown",
   "source": [
    "The [pyimagej](https://pypi.org/project/pyimagej/) module enables access to the entire ImageJ API from Python in a natural way.\n",
    "\n",
    "Let's initialize an ImageJ gateway including Fiji plugins, at a reproducible version:"
   ],
   "metadata": {}
  },
  {
   "cell_type": "code",
   "execution_count": null,
   "source": [
    "import imagej\n",
    "import os\n",
    "ij = imagej.init('/srv/conda/vnc/Fiji.app', headless=False)\n",
    "ij.ui().showUI()\n",
    "ij.getVersion()"
   ],
   "outputs": [],
   "metadata": {}
  },
  {
   "cell_type": "code",
   "execution_count": null,
   "source": [
    "macro = \"\"\"\n",
    "#@ String inputFile\n",
    "#@output String logString\n",
    "\n",
    "open(\"Fiji.app/models/DEFCoN.bioimage.io.model/exampleImage.tif\");\n",
    "selectWindow(\"exampleImage.tif\");\n",
    "saveAs(\"PNG\", \"input.png\");\n",
    "run(\"DeepImageJ Run\", \"model=[SMLM Density Map Estimation (DEFCoN)] format=Tensorflow preprocessing=[preprocessing.txt] postprocessing=[postprocessing.txt] axes=Y,X,C tile=84,84,1 logging=normal\");\n",
    "saveAs(\"PNG\", \"output.png\");\n",
    "\n",
    "IJ.log(\"Done\");\n",
    "logString = getInfo(\"log\");\n",
    "\"\"\"\n",
    "args = {\n",
    "    'inputFile': '\"Fiji.app/models/DEFCoN.bioimage.io.model/exampleImage.tif\"',\n",
    "}\n",
    "result = ij.py.run_macro(macro, args)\n",
    "print(result.getOutput('logString')) # it should print '...Done'"
   ],
   "outputs": [],
   "metadata": {}
  }
 ],
 "metadata": {
  "kernelspec": {
   "display_name": "Python 3",
   "language": "python",
   "name": "python3"
  },
  "language_info": {
   "codemirror_mode": {
    "name": "ipython",
    "version": 3
   },
   "file_extension": ".py",
   "mimetype": "text/x-python",
   "name": "python",
   "nbconvert_exporter": "python",
   "pygments_lexer": "ipython3",
   "version": "3.7.10"
  },
  "toc": {
   "base_numbering": 1,
   "nav_menu": {},
   "number_sections": true,
   "sideBar": true,
   "skip_h1_title": true,
   "title_cell": "Table of Contents",
   "title_sidebar": "Contents",
   "toc_cell": false,
   "toc_position": {
    "height": "calc(100% - 180px)",
    "left": "10px",
    "top": "150px",
    "width": "307px"
   },
   "toc_section_display": true,
   "toc_window_display": true
  }
 },
 "nbformat": 4,
 "nbformat_minor": 2
}